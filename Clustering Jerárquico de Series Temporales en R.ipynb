{
 "cells": [
  {
   "cell_type": "markdown",
   "metadata": {},
   "source": [
    "### El Clustering Jerárquico, \n",
    "es una técnica muy útil cuando se desea descubrir similitudes entre individuos en base a sus características.\n",
    "\n",
    "““Dynamic Time Warping” o DTW "
   ]
  },
  {
   "cell_type": "code",
   "execution_count": 1,
   "metadata": {},
   "outputs": [],
   "source": [
    "indices <- read.csv(file=\"ahppca.csv\",header=TRUE,sep=\",\",dec=\".\",row.names=1)\n",
    "# los nombres de los renglones son las fechas de cada renglon de la matriz"
   ]
  },
  {
   "cell_type": "code",
   "execution_count": 2,
   "metadata": {},
   "outputs": [
    {
     "data": {
      "text/html": [
       "<table>\n",
       "<caption>A data.frame: 6 × 19</caption>\n",
       "<thead>\n",
       "\t<tr><th></th><th scope=col>Karate</th><th scope=col>Fitness</th><th scope=col>Natación</th><th scope=col>Baloncesto</th><th scope=col>Fútbol</th><th scope=col>Fitness.1</th><th scope=col>Baloncesto.1</th><th scope=col>Tae.Kwon.Do</th><th scope=col>Beisbol</th><th scope=col>Pesas</th><th scope=col>Natación.1</th><th scope=col>Baloncesto.2</th><th scope=col>Atletismo</th><th scope=col>Fútbol.1</th><th scope=col>Beisbol.1</th><th scope=col>Baloncesto.3</th><th scope=col>Baloncesto.4</th><th scope=col>Fútbol.2</th><th scope=col>Beisbol.2</th></tr>\n",
       "\t<tr><th></th><th scope=col>&lt;dbl&gt;</th><th scope=col>&lt;dbl&gt;</th><th scope=col>&lt;dbl&gt;</th><th scope=col>&lt;dbl&gt;</th><th scope=col>&lt;dbl&gt;</th><th scope=col>&lt;dbl&gt;</th><th scope=col>&lt;dbl&gt;</th><th scope=col>&lt;dbl&gt;</th><th scope=col>&lt;dbl&gt;</th><th scope=col>&lt;dbl&gt;</th><th scope=col>&lt;dbl&gt;</th><th scope=col>&lt;dbl&gt;</th><th scope=col>&lt;dbl&gt;</th><th scope=col>&lt;dbl&gt;</th><th scope=col>&lt;dbl&gt;</th><th scope=col>&lt;dbl&gt;</th><th scope=col>&lt;dbl&gt;</th><th scope=col>&lt;dbl&gt;</th><th scope=col>&lt;dbl&gt;</th></tr>\n",
       "</thead>\n",
       "<tbody>\n",
       "\t<tr><th scope=row>Velocidad</th><td>0.14</td><td>0.37629324</td><td>0.42793009</td><td>0.40245249</td><td>0.40782736</td><td>0.40314721</td><td>0.37764984</td><td>0.05912417</td><td>0.37323160</td><td>0.42445534</td><td>0.43613499</td><td>0.41499906</td><td>0.1552390</td><td>0.43384637</td><td>0.38762534</td><td>0.12401949</td><td>0.01059568</td><td>0.43612843</td><td>0.41850000</td></tr>\n",
       "\t<tr><th scope=row>Fuerza</th><td>0.06</td><td>0.23196298</td><td>0.24790084</td><td>0.24121734</td><td>0.24127591</td><td>0.25832405</td><td>0.21704682</td><td>0.06961118</td><td>0.22680653</td><td>0.25125748</td><td>0.23745242</td><td>0.24659269</td><td>0.2651356</td><td>0.24069868</td><td>0.22564931</td><td>0.10545469</td><td>0.02041612</td><td>0.23300949</td><td>0.25483980</td></tr>\n",
       "\t<tr><th scope=row>Potencia</th><td>0.30</td><td>0.17656429</td><td>0.13544685</td><td>0.13284924</td><td>0.14181168</td><td>0.14862630</td><td>0.17911225</td><td>0.08195827</td><td>0.15371920</td><td>0.14137882</td><td>0.13862190</td><td>0.14697833</td><td>0.1193084</td><td>0.13783184</td><td>0.14493887</td><td>0.14889525</td><td>0.03354969</td><td>0.13923632</td><td>0.14475612</td></tr>\n",
       "\t<tr><th scope=row>Equilibrio</th><td>0.07</td><td>0.09521916</td><td>0.08269160</td><td>0.08419051</td><td>0.08819383</td><td>0.08521923</td><td>0.09597850</td><td>0.09649536</td><td>0.09395042</td><td>0.08258376</td><td>0.08202029</td><td>0.08683988</td><td>0.1841829</td><td>0.07833245</td><td>0.09625857</td><td>0.05890428</td><td>0.06034982</td><td>0.08318722</td><td>0.08177855</td></tr>\n",
       "\t<tr><th scope=row>Coordinaci¢n</th><td>0.13</td><td>0.05405096</td><td>0.04973717</td><td>0.05655265</td><td>0.05711617</td><td>0.04886586</td><td>0.05715086</td><td>0.11361091</td><td>0.06377328</td><td>0.04621934</td><td>0.04084924</td><td>0.04959914</td><td>0.1118801</td><td>0.04858883</td><td>0.06194166</td><td>0.17175296</td><td>0.09163361</td><td>0.04970156</td><td>0.04642105</td></tr>\n",
       "\t<tr><th scope=row>Tiempo de reacci¢n</th><td>0.18</td><td>0.03327292</td><td>0.02781666</td><td>0.03783455</td><td>0.03165427</td><td>0.02843915</td><td>0.03476066</td><td>0.13376228</td><td>0.03977308</td><td>0.02797249</td><td>0.02665718</td><td>0.02813226</td><td>0.0715609</td><td>0.03027836</td><td>0.03948937</td><td>0.19904690</td><td>0.17124777</td><td>0.03024484</td><td>0.02832279</td></tr>\n",
       "</tbody>\n",
       "</table>\n"
      ],
      "text/latex": [
       "A data.frame: 6 × 19\n",
       "\\begin{tabular}{r|lllllllllllllllllll}\n",
       "  & Karate & Fitness & Natación & Baloncesto & Fútbol & Fitness.1 & Baloncesto.1 & Tae.Kwon.Do & Beisbol & Pesas & Natación.1 & Baloncesto.2 & Atletismo & Fútbol.1 & Beisbol.1 & Baloncesto.3 & Baloncesto.4 & Fútbol.2 & Beisbol.2\\\\\n",
       "  & <dbl> & <dbl> & <dbl> & <dbl> & <dbl> & <dbl> & <dbl> & <dbl> & <dbl> & <dbl> & <dbl> & <dbl> & <dbl> & <dbl> & <dbl> & <dbl> & <dbl> & <dbl> & <dbl>\\\\\n",
       "\\hline\n",
       "\tVelocidad & 0.14 & 0.37629324 & 0.42793009 & 0.40245249 & 0.40782736 & 0.40314721 & 0.37764984 & 0.05912417 & 0.37323160 & 0.42445534 & 0.43613499 & 0.41499906 & 0.1552390 & 0.43384637 & 0.38762534 & 0.12401949 & 0.01059568 & 0.43612843 & 0.41850000\\\\\n",
       "\tFuerza & 0.06 & 0.23196298 & 0.24790084 & 0.24121734 & 0.24127591 & 0.25832405 & 0.21704682 & 0.06961118 & 0.22680653 & 0.25125748 & 0.23745242 & 0.24659269 & 0.2651356 & 0.24069868 & 0.22564931 & 0.10545469 & 0.02041612 & 0.23300949 & 0.25483980\\\\\n",
       "\tPotencia & 0.30 & 0.17656429 & 0.13544685 & 0.13284924 & 0.14181168 & 0.14862630 & 0.17911225 & 0.08195827 & 0.15371920 & 0.14137882 & 0.13862190 & 0.14697833 & 0.1193084 & 0.13783184 & 0.14493887 & 0.14889525 & 0.03354969 & 0.13923632 & 0.14475612\\\\\n",
       "\tEquilibrio & 0.07 & 0.09521916 & 0.08269160 & 0.08419051 & 0.08819383 & 0.08521923 & 0.09597850 & 0.09649536 & 0.09395042 & 0.08258376 & 0.08202029 & 0.08683988 & 0.1841829 & 0.07833245 & 0.09625857 & 0.05890428 & 0.06034982 & 0.08318722 & 0.08177855\\\\\n",
       "\tCoordinaci¢n & 0.13 & 0.05405096 & 0.04973717 & 0.05655265 & 0.05711617 & 0.04886586 & 0.05715086 & 0.11361091 & 0.06377328 & 0.04621934 & 0.04084924 & 0.04959914 & 0.1118801 & 0.04858883 & 0.06194166 & 0.17175296 & 0.09163361 & 0.04970156 & 0.04642105\\\\\n",
       "\tTiempo de reacci¢n & 0.18 & 0.03327292 & 0.02781666 & 0.03783455 & 0.03165427 & 0.02843915 & 0.03476066 & 0.13376228 & 0.03977308 & 0.02797249 & 0.02665718 & 0.02813226 & 0.0715609 & 0.03027836 & 0.03948937 & 0.19904690 & 0.17124777 & 0.03024484 & 0.02832279\\\\\n",
       "\\end{tabular}\n"
      ],
      "text/markdown": [
       "\n",
       "A data.frame: 6 × 19\n",
       "\n",
       "| <!--/--> | Karate &lt;dbl&gt; | Fitness &lt;dbl&gt; | Natación &lt;dbl&gt; | Baloncesto &lt;dbl&gt; | Fútbol &lt;dbl&gt; | Fitness.1 &lt;dbl&gt; | Baloncesto.1 &lt;dbl&gt; | Tae.Kwon.Do &lt;dbl&gt; | Beisbol &lt;dbl&gt; | Pesas &lt;dbl&gt; | Natación.1 &lt;dbl&gt; | Baloncesto.2 &lt;dbl&gt; | Atletismo &lt;dbl&gt; | Fútbol.1 &lt;dbl&gt; | Beisbol.1 &lt;dbl&gt; | Baloncesto.3 &lt;dbl&gt; | Baloncesto.4 &lt;dbl&gt; | Fútbol.2 &lt;dbl&gt; | Beisbol.2 &lt;dbl&gt; |\n",
       "|---|---|---|---|---|---|---|---|---|---|---|---|---|---|---|---|---|---|---|---|\n",
       "| Velocidad | 0.14 | 0.37629324 | 0.42793009 | 0.40245249 | 0.40782736 | 0.40314721 | 0.37764984 | 0.05912417 | 0.37323160 | 0.42445534 | 0.43613499 | 0.41499906 | 0.1552390 | 0.43384637 | 0.38762534 | 0.12401949 | 0.01059568 | 0.43612843 | 0.41850000 |\n",
       "| Fuerza | 0.06 | 0.23196298 | 0.24790084 | 0.24121734 | 0.24127591 | 0.25832405 | 0.21704682 | 0.06961118 | 0.22680653 | 0.25125748 | 0.23745242 | 0.24659269 | 0.2651356 | 0.24069868 | 0.22564931 | 0.10545469 | 0.02041612 | 0.23300949 | 0.25483980 |\n",
       "| Potencia | 0.30 | 0.17656429 | 0.13544685 | 0.13284924 | 0.14181168 | 0.14862630 | 0.17911225 | 0.08195827 | 0.15371920 | 0.14137882 | 0.13862190 | 0.14697833 | 0.1193084 | 0.13783184 | 0.14493887 | 0.14889525 | 0.03354969 | 0.13923632 | 0.14475612 |\n",
       "| Equilibrio | 0.07 | 0.09521916 | 0.08269160 | 0.08419051 | 0.08819383 | 0.08521923 | 0.09597850 | 0.09649536 | 0.09395042 | 0.08258376 | 0.08202029 | 0.08683988 | 0.1841829 | 0.07833245 | 0.09625857 | 0.05890428 | 0.06034982 | 0.08318722 | 0.08177855 |\n",
       "| Coordinaci¢n | 0.13 | 0.05405096 | 0.04973717 | 0.05655265 | 0.05711617 | 0.04886586 | 0.05715086 | 0.11361091 | 0.06377328 | 0.04621934 | 0.04084924 | 0.04959914 | 0.1118801 | 0.04858883 | 0.06194166 | 0.17175296 | 0.09163361 | 0.04970156 | 0.04642105 |\n",
       "| Tiempo de reacci¢n | 0.18 | 0.03327292 | 0.02781666 | 0.03783455 | 0.03165427 | 0.02843915 | 0.03476066 | 0.13376228 | 0.03977308 | 0.02797249 | 0.02665718 | 0.02813226 | 0.0715609 | 0.03027836 | 0.03948937 | 0.19904690 | 0.17124777 | 0.03024484 | 0.02832279 |\n",
       "\n"
      ],
      "text/plain": [
       "                   Karate Fitness    Natación   Baloncesto Fútbol    \n",
       "Velocidad          0.14   0.37629324 0.42793009 0.40245249 0.40782736\n",
       "Fuerza             0.06   0.23196298 0.24790084 0.24121734 0.24127591\n",
       "Potencia           0.30   0.17656429 0.13544685 0.13284924 0.14181168\n",
       "Equilibrio         0.07   0.09521916 0.08269160 0.08419051 0.08819383\n",
       "Coordinaci¢n       0.13   0.05405096 0.04973717 0.05655265 0.05711617\n",
       "Tiempo de reacci¢n 0.18   0.03327292 0.02781666 0.03783455 0.03165427\n",
       "                   Fitness.1  Baloncesto.1 Tae.Kwon.Do Beisbol    Pesas     \n",
       "Velocidad          0.40314721 0.37764984   0.05912417  0.37323160 0.42445534\n",
       "Fuerza             0.25832405 0.21704682   0.06961118  0.22680653 0.25125748\n",
       "Potencia           0.14862630 0.17911225   0.08195827  0.15371920 0.14137882\n",
       "Equilibrio         0.08521923 0.09597850   0.09649536  0.09395042 0.08258376\n",
       "Coordinaci¢n       0.04886586 0.05715086   0.11361091  0.06377328 0.04621934\n",
       "Tiempo de reacci¢n 0.02843915 0.03476066   0.13376228  0.03977308 0.02797249\n",
       "                   Natación.1 Baloncesto.2 Atletismo Fútbol.1   Beisbol.1 \n",
       "Velocidad          0.43613499 0.41499906   0.1552390 0.43384637 0.38762534\n",
       "Fuerza             0.23745242 0.24659269   0.2651356 0.24069868 0.22564931\n",
       "Potencia           0.13862190 0.14697833   0.1193084 0.13783184 0.14493887\n",
       "Equilibrio         0.08202029 0.08683988   0.1841829 0.07833245 0.09625857\n",
       "Coordinaci¢n       0.04084924 0.04959914   0.1118801 0.04858883 0.06194166\n",
       "Tiempo de reacci¢n 0.02665718 0.02813226   0.0715609 0.03027836 0.03948937\n",
       "                   Baloncesto.3 Baloncesto.4 Fútbol.2   Beisbol.2 \n",
       "Velocidad          0.12401949   0.01059568   0.43612843 0.41850000\n",
       "Fuerza             0.10545469   0.02041612   0.23300949 0.25483980\n",
       "Potencia           0.14889525   0.03354969   0.13923632 0.14475612\n",
       "Equilibrio         0.05890428   0.06034982   0.08318722 0.08177855\n",
       "Coordinaci¢n       0.17175296   0.09163361   0.04970156 0.04642105\n",
       "Tiempo de reacci¢n 0.19904690   0.17124777   0.03024484 0.02832279"
      ]
     },
     "metadata": {},
     "output_type": "display_data"
    }
   ],
   "source": [
    "head(indices)"
   ]
  },
  {
   "cell_type": "code",
   "execution_count": 4,
   "metadata": {},
   "outputs": [
    {
     "data": {
      "text/html": [
       "<table>\n",
       "<caption>A matrix: 6 × 8 of type dbl</caption>\n",
       "<thead>\n",
       "\t<tr><th></th><th scope=col>Velocidad</th><th scope=col>Fuerza</th><th scope=col>Potencia</th><th scope=col>Equilibrio</th><th scope=col>Coordinaci¢n</th><th scope=col>Tiempo de reacci¢n</th><th scope=col>Flexibilidad</th><th scope=col>Biomec nica corporal</th></tr>\n",
       "</thead>\n",
       "<tbody>\n",
       "\t<tr><th scope=row>Karate</th><td>0.1400000</td><td>0.0600000</td><td>0.3000000</td><td>0.07000000</td><td>0.13000000</td><td>0.18000000</td><td>0.04000000</td><td>0.09000000</td></tr>\n",
       "\t<tr><th scope=row>Fitness</th><td>0.3762932</td><td>0.2319630</td><td>0.1765643</td><td>0.09521916</td><td>0.05405096</td><td>0.03327292</td><td>0.02118693</td><td>0.01144952</td></tr>\n",
       "\t<tr><th scope=row>Natación</th><td>0.4279301</td><td>0.2479008</td><td>0.1354469</td><td>0.08269160</td><td>0.04973717</td><td>0.02781666</td><td>0.01815964</td><td>0.01031714</td></tr>\n",
       "\t<tr><th scope=row>Baloncesto</th><td>0.4024525</td><td>0.2412173</td><td>0.1328492</td><td>0.08419051</td><td>0.05655265</td><td>0.03783455</td><td>0.02715826</td><td>0.01774496</td></tr>\n",
       "\t<tr><th scope=row>Fútbol</th><td>0.4078274</td><td>0.2412759</td><td>0.1418117</td><td>0.08819383</td><td>0.05711617</td><td>0.03165427</td><td>0.02049700</td><td>0.01162377</td></tr>\n",
       "\t<tr><th scope=row>Fitness.1</th><td>0.4031472</td><td>0.2583240</td><td>0.1486263</td><td>0.08521923</td><td>0.04886586</td><td>0.02843915</td><td>0.01728671</td><td>0.01009149</td></tr>\n",
       "</tbody>\n",
       "</table>\n"
      ],
      "text/latex": [
       "A matrix: 6 × 8 of type dbl\n",
       "\\begin{tabular}{r|llllllll}\n",
       "  & Velocidad & Fuerza & Potencia & Equilibrio & Coordinaci¢n & Tiempo de reacci¢n & Flexibilidad & Biomec nica corporal\\\\\n",
       "\\hline\n",
       "\tKarate & 0.1400000 & 0.0600000 & 0.3000000 & 0.07000000 & 0.13000000 & 0.18000000 & 0.04000000 & 0.09000000\\\\\n",
       "\tFitness & 0.3762932 & 0.2319630 & 0.1765643 & 0.09521916 & 0.05405096 & 0.03327292 & 0.02118693 & 0.01144952\\\\\n",
       "\tNatación & 0.4279301 & 0.2479008 & 0.1354469 & 0.08269160 & 0.04973717 & 0.02781666 & 0.01815964 & 0.01031714\\\\\n",
       "\tBaloncesto & 0.4024525 & 0.2412173 & 0.1328492 & 0.08419051 & 0.05655265 & 0.03783455 & 0.02715826 & 0.01774496\\\\\n",
       "\tFútbol & 0.4078274 & 0.2412759 & 0.1418117 & 0.08819383 & 0.05711617 & 0.03165427 & 0.02049700 & 0.01162377\\\\\n",
       "\tFitness.1 & 0.4031472 & 0.2583240 & 0.1486263 & 0.08521923 & 0.04886586 & 0.02843915 & 0.01728671 & 0.01009149\\\\\n",
       "\\end{tabular}\n"
      ],
      "text/markdown": [
       "\n",
       "A matrix: 6 × 8 of type dbl\n",
       "\n",
       "| <!--/--> | Velocidad | Fuerza | Potencia | Equilibrio | Coordinaci¢n | Tiempo de reacci¢n | Flexibilidad | Biomec nica corporal |\n",
       "|---|---|---|---|---|---|---|---|---|\n",
       "| Karate | 0.1400000 | 0.0600000 | 0.3000000 | 0.07000000 | 0.13000000 | 0.18000000 | 0.04000000 | 0.09000000 |\n",
       "| Fitness | 0.3762932 | 0.2319630 | 0.1765643 | 0.09521916 | 0.05405096 | 0.03327292 | 0.02118693 | 0.01144952 |\n",
       "| Natación | 0.4279301 | 0.2479008 | 0.1354469 | 0.08269160 | 0.04973717 | 0.02781666 | 0.01815964 | 0.01031714 |\n",
       "| Baloncesto | 0.4024525 | 0.2412173 | 0.1328492 | 0.08419051 | 0.05655265 | 0.03783455 | 0.02715826 | 0.01774496 |\n",
       "| Fútbol | 0.4078274 | 0.2412759 | 0.1418117 | 0.08819383 | 0.05711617 | 0.03165427 | 0.02049700 | 0.01162377 |\n",
       "| Fitness.1 | 0.4031472 | 0.2583240 | 0.1486263 | 0.08521923 | 0.04886586 | 0.02843915 | 0.01728671 | 0.01009149 |\n",
       "\n"
      ],
      "text/plain": [
       "           Velocidad Fuerza    Potencia  Equilibrio Coordinaci¢n\n",
       "Karate     0.1400000 0.0600000 0.3000000 0.07000000 0.13000000  \n",
       "Fitness    0.3762932 0.2319630 0.1765643 0.09521916 0.05405096  \n",
       "Natación   0.4279301 0.2479008 0.1354469 0.08269160 0.04973717  \n",
       "Baloncesto 0.4024525 0.2412173 0.1328492 0.08419051 0.05655265  \n",
       "Fútbol     0.4078274 0.2412759 0.1418117 0.08819383 0.05711617  \n",
       "Fitness.1  0.4031472 0.2583240 0.1486263 0.08521923 0.04886586  \n",
       "           Tiempo de reacci¢n Flexibilidad Biomec nica corporal\n",
       "Karate     0.18000000         0.04000000   0.09000000          \n",
       "Fitness    0.03327292         0.02118693   0.01144952          \n",
       "Natación   0.02781666         0.01815964   0.01031714          \n",
       "Baloncesto 0.03783455         0.02715826   0.01774496          \n",
       "Fútbol     0.03165427         0.02049700   0.01162377          \n",
       "Fitness.1  0.02843915         0.01728671   0.01009149          "
      ]
     },
     "metadata": {},
     "output_type": "display_data"
    }
   ],
   "source": [
    "# ya que las características son los renglones, se debe obtener la transpuesta de la matriz\n",
    "# los renglones serán las columnas\n",
    "indices_transp <- t(indices)\n",
    "head(indices_transp)"
   ]
  },
  {
   "cell_type": "code",
   "execution_count": 6,
   "metadata": {},
   "outputs": [],
   "source": [
    "library(dtw)"
   ]
  },
  {
   "cell_type": "code",
   "execution_count": 7,
   "metadata": {},
   "outputs": [
    {
     "data": {
      "image/png": "[encoded data removed]",
      "text/plain": [
       "Plot with title \"Cluster Dendrogram\""
      ]
     },
     "metadata": {
      "image/png": {
       "height": 420,
       "width": 420
      },
      "text/plain": {
       "height": 420,
       "width": 420
      }
     },
     "output_type": "display_data"
    }
   ],
   "source": [
    "# crear dendograma\n",
    "modelo_dtw <- hclust(dist(indices_transp, method=\"dtw\"))\n",
    "plot(modelo_dtw)"
   ]
  },
  {
   "cell_type": "code",
   "execution_count": 8,
   "metadata": {},
   "outputs": [
    {
     "data": {
      "image/png": "[encoded data removed]",
      "text/plain": [
       "Plot with title \"Cluster Dendrogram\""
      ]
     },
     "metadata": {
      "image/png": {
       "height": 420,
       "width": 420
      },
      "text/plain": {
       "height": 420,
       "width": 420
      }
     },
     "output_type": "display_data"
    }
   ],
   "source": [
    "plot(modelo_dtw)\n",
    "rect.hclust(modelo_dtw,k=3,border=\"red\")"
   ]
  },
  {
   "cell_type": "code",
   "execution_count": 9,
   "metadata": {},
   "outputs": [
    {
     "data": {
      "image/png": "[encoded data removed]",
      "text/plain": [
       "Plot with title \"Dendrograma\""
      ]
     },
     "metadata": {
      "image/png": {
       "height": 420,
       "width": 420
      },
      "text/plain": {
       "height": 420,
       "width": 420
      }
     },
     "output_type": "display_data"
    }
   ],
   "source": [
    "modelo_dtw <- hclust(dist(indices_transp, method=\"dtw\"))\n",
    "# mostrar los clusters que queremos obtener\n",
    "\n",
    "fit <- modelo_dtw\n",
    "\n",
    "nodePar <- list(lab.cex = 0.8, pch = c(NA, 19), cex = 0.7, col = \"blue\")\n",
    "plot(as.dendrogram(fit), xlab = \"\", sub=\"\", ylab = \"Distancia dtw\",\n",
    "     main = \"Dendrograma\", nodePar = nodePar)\n",
    "\n",
    "rect.hclust(fit, k=3, border=\"red\")"
   ]
  },
  {
   "cell_type": "code",
   "execution_count": 10,
   "metadata": {},
   "outputs": [
    {
     "data": {
      "text/html": [
       "<table>\n",
       "<caption>A matrix: 6 × 9 of type dbl</caption>\n",
       "<thead>\n",
       "\t<tr><th></th><th scope=col>Velocidad</th><th scope=col>Fuerza</th><th scope=col>Potencia</th><th scope=col>Equilibrio</th><th scope=col>Coordinaci¢n</th><th scope=col>Tiempo de reacci¢n</th><th scope=col>Flexibilidad</th><th scope=col>Biomec nica corporal</th><th scope=col>clusters_dtw</th></tr>\n",
       "</thead>\n",
       "<tbody>\n",
       "\t<tr><th scope=row>Karate</th><td>0.1400000</td><td>0.0600000</td><td>0.3000000</td><td>0.07000000</td><td>0.13000000</td><td>0.18000000</td><td>0.04000000</td><td>0.09000000</td><td>1</td></tr>\n",
       "\t<tr><th scope=row>Fitness</th><td>0.3762932</td><td>0.2319630</td><td>0.1765643</td><td>0.09521916</td><td>0.05405096</td><td>0.03327292</td><td>0.02118693</td><td>0.01144952</td><td>2</td></tr>\n",
       "\t<tr><th scope=row>Natación</th><td>0.4279301</td><td>0.2479008</td><td>0.1354469</td><td>0.08269160</td><td>0.04973717</td><td>0.02781666</td><td>0.01815964</td><td>0.01031714</td><td>2</td></tr>\n",
       "\t<tr><th scope=row>Baloncesto</th><td>0.4024525</td><td>0.2412173</td><td>0.1328492</td><td>0.08419051</td><td>0.05655265</td><td>0.03783455</td><td>0.02715826</td><td>0.01774496</td><td>2</td></tr>\n",
       "\t<tr><th scope=row>Fútbol</th><td>0.4078274</td><td>0.2412759</td><td>0.1418117</td><td>0.08819383</td><td>0.05711617</td><td>0.03165427</td><td>0.02049700</td><td>0.01162377</td><td>2</td></tr>\n",
       "\t<tr><th scope=row>Fitness.1</th><td>0.4031472</td><td>0.2583240</td><td>0.1486263</td><td>0.08521923</td><td>0.04886586</td><td>0.02843915</td><td>0.01728671</td><td>0.01009149</td><td>2</td></tr>\n",
       "</tbody>\n",
       "</table>\n"
      ],
      "text/latex": [
       "A matrix: 6 × 9 of type dbl\n",
       "\\begin{tabular}{r|lllllllll}\n",
       "  & Velocidad & Fuerza & Potencia & Equilibrio & Coordinaci¢n & Tiempo de reacci¢n & Flexibilidad & Biomec nica corporal & clusters\\_dtw\\\\\n",
       "\\hline\n",
       "\tKarate & 0.1400000 & 0.0600000 & 0.3000000 & 0.07000000 & 0.13000000 & 0.18000000 & 0.04000000 & 0.09000000 & 1\\\\\n",
       "\tFitness & 0.3762932 & 0.2319630 & 0.1765643 & 0.09521916 & 0.05405096 & 0.03327292 & 0.02118693 & 0.01144952 & 2\\\\\n",
       "\tNatación & 0.4279301 & 0.2479008 & 0.1354469 & 0.08269160 & 0.04973717 & 0.02781666 & 0.01815964 & 0.01031714 & 2\\\\\n",
       "\tBaloncesto & 0.4024525 & 0.2412173 & 0.1328492 & 0.08419051 & 0.05655265 & 0.03783455 & 0.02715826 & 0.01774496 & 2\\\\\n",
       "\tFútbol & 0.4078274 & 0.2412759 & 0.1418117 & 0.08819383 & 0.05711617 & 0.03165427 & 0.02049700 & 0.01162377 & 2\\\\\n",
       "\tFitness.1 & 0.4031472 & 0.2583240 & 0.1486263 & 0.08521923 & 0.04886586 & 0.02843915 & 0.01728671 & 0.01009149 & 2\\\\\n",
       "\\end{tabular}\n"
      ],
      "text/markdown": [
       "\n",
       "A matrix: 6 × 9 of type dbl\n",
       "\n",
       "| <!--/--> | Velocidad | Fuerza | Potencia | Equilibrio | Coordinaci¢n | Tiempo de reacci¢n | Flexibilidad | Biomec nica corporal | clusters_dtw |\n",
       "|---|---|---|---|---|---|---|---|---|---|\n",
       "| Karate | 0.1400000 | 0.0600000 | 0.3000000 | 0.07000000 | 0.13000000 | 0.18000000 | 0.04000000 | 0.09000000 | 1 |\n",
       "| Fitness | 0.3762932 | 0.2319630 | 0.1765643 | 0.09521916 | 0.05405096 | 0.03327292 | 0.02118693 | 0.01144952 | 2 |\n",
       "| Natación | 0.4279301 | 0.2479008 | 0.1354469 | 0.08269160 | 0.04973717 | 0.02781666 | 0.01815964 | 0.01031714 | 2 |\n",
       "| Baloncesto | 0.4024525 | 0.2412173 | 0.1328492 | 0.08419051 | 0.05655265 | 0.03783455 | 0.02715826 | 0.01774496 | 2 |\n",
       "| Fútbol | 0.4078274 | 0.2412759 | 0.1418117 | 0.08819383 | 0.05711617 | 0.03165427 | 0.02049700 | 0.01162377 | 2 |\n",
       "| Fitness.1 | 0.4031472 | 0.2583240 | 0.1486263 | 0.08521923 | 0.04886586 | 0.02843915 | 0.01728671 | 0.01009149 | 2 |\n",
       "\n"
      ],
      "text/plain": [
       "           Velocidad Fuerza    Potencia  Equilibrio Coordinaci¢n\n",
       "Karate     0.1400000 0.0600000 0.3000000 0.07000000 0.13000000  \n",
       "Fitness    0.3762932 0.2319630 0.1765643 0.09521916 0.05405096  \n",
       "Natación   0.4279301 0.2479008 0.1354469 0.08269160 0.04973717  \n",
       "Baloncesto 0.4024525 0.2412173 0.1328492 0.08419051 0.05655265  \n",
       "Fútbol     0.4078274 0.2412759 0.1418117 0.08819383 0.05711617  \n",
       "Fitness.1  0.4031472 0.2583240 0.1486263 0.08521923 0.04886586  \n",
       "           Tiempo de reacci¢n Flexibilidad Biomec nica corporal clusters_dtw\n",
       "Karate     0.18000000         0.04000000   0.09000000           1           \n",
       "Fitness    0.03327292         0.02118693   0.01144952           2           \n",
       "Natación   0.02781666         0.01815964   0.01031714           2           \n",
       "Baloncesto 0.03783455         0.02715826   0.01774496           2           \n",
       "Fútbol     0.03165427         0.02049700   0.01162377           2           \n",
       "Fitness.1  0.02843915         0.01728671   0.01009149           2           "
      ]
     },
     "metadata": {},
     "output_type": "display_data"
    }
   ],
   "source": [
    "# a que cluster pertenece cada uno de los indices\n",
    "clusters_dtw <- cutree(modelo_dtw,k=3)\n",
    "indices_con_clusters <- cbind(indices_transp, clusters_dtw)\n",
    "head(indices_con_clusters)"
   ]
  },
  {
   "cell_type": "code",
   "execution_count": 11,
   "metadata": {},
   "outputs": [],
   "source": [
    "# guardar la información\n",
    "write.csv(indices_con_clusters,\"indices_con_clusters.csv\")"
   ]
  },
  {
   "cell_type": "code",
   "execution_count": null,
   "metadata": {},
   "outputs": [],
   "source": []
  }
 ],
 "metadata": {
  "kernelspec": {
   "display_name": "R",
   "language": "R",
   "name": "ir"
  },
  "language_info": {
   "codemirror_mode": "r",
   "file_extension": ".r",
   "mimetype": "text/x-r-source",
   "name": "R",
   "pygments_lexer": "r",
   "version": "3.6.1"
  }
 },
 "nbformat": 4,
 "nbformat_minor": 4
}
